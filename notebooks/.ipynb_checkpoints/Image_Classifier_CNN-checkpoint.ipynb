{
 "cells": [
  {
   "cell_type": "code",
   "execution_count": 0,
   "metadata": {
    "colab": {},
    "colab_type": "code",
    "id": "fI43PmliaeWj"
   },
   "outputs": [],
   "source": [
    "!git clone https://github.com/Mjdhsn49/Classification-Object-detection-API.git"
   ]
  },
  {
   "cell_type": "markdown",
   "metadata": {
    "colab_type": "text",
    "id": "fwR19i888H-m"
   },
   "source": [
    "Before starting clone the repository to access all the data and code"
   ]
  },
  {
   "cell_type": "markdown",
   "metadata": {
    "colab_type": "text",
    "id": "DuUzhLBhzoNZ"
   },
   "source": [
    "# Classification task on cats and dogs \n",
    "I recommend using google colab to run this notebook by clicking here\n",
    "[Cats-Dogs_Image_Classification_CNN](https://colab.research.google.com/github/Mjdhsn49/Classification-Object-detection-API/blob/master/notebooks/Image_Classifier_CNN.ipynb)\n",
    "\n",
    "1) First let's try with simple CNN model\n",
    "\n",
    "2) Secondly we will use Pre-trained VGG16 Model\n",
    "\n",
    "3) Later we try some Data Augmentation and evaluate "
   ]
  },
  {
   "cell_type": "code",
   "execution_count": 1,
   "metadata": {
    "colab": {},
    "colab_type": "code",
    "id": "iysqRx2aaeWo"
   },
   "outputs": [
    {
     "name": "stderr",
     "output_type": "stream",
     "text": [
      "Using TensorFlow backend.\n"
     ]
    }
   ],
   "source": [
    "import numpy as np\n",
    "import keras\n",
    "from keras import backend as k\n",
    "from keras.models import Sequential\n",
    "from keras.layers import Activation\n",
    "from keras.layers.core import Dense,Flatten\n",
    "from keras.optimizers import Adam, RMSprop\n",
    "from keras.metrics import categorical_crossentropy\n",
    "from keras.preprocessing.image import ImageDataGenerator\n",
    "from keras.layers.normalization import BatchNormalization\n",
    "from keras.layers.convolutional import *\n",
    "from matplotlib import pyplot as plt\n",
    "from sklearn.metrics import confusion_matrix\n",
    "import matplotlib.pyplot as plt\n",
    "import itertools\n",
    "%matplotlib inline"
   ]
  },
  {
   "cell_type": "code",
   "execution_count": 2,
   "metadata": {
    "colab": {},
    "colab_type": "code",
    "id": "VU-MMFusaeWu"
   },
   "outputs": [],
   "source": [
    "#Assigning paths\n",
    "train_path = 'Dataset/training_set/'\n",
    "valid_path = 'Dataset/validation_set/'\n",
    "test_path = 'Dataset/test/'"
   ]
  },
  {
   "cell_type": "code",
   "execution_count": 4,
   "metadata": {},
   "outputs": [],
   "source": [
    "#Use this paths if running this notebook in collab\n",
    "#train_path = 'Classification-Object-detection-API/notebooks/Dataset/training_set/'\n",
    "#valid_path = 'Classification-Object-detection-API/notebooks/Dataset/validation_set/'\n",
    "#test_path = 'Classification-Object-detection-API/notebooks/Dataset/test/"
   ]
  },
  {
   "cell_type": "code",
   "execution_count": 3,
   "metadata": {
    "colab": {
     "base_uri": "https://localhost:8080/",
     "height": 70
    },
    "colab_type": "code",
    "id": "Lu_sDTCAaeWw",
    "outputId": "090d0d33-5711-4ac3-d7df-e17382846096"
   },
   "outputs": [
    {
     "name": "stdout",
     "output_type": "stream",
     "text": [
      "Found 4002 images belonging to 2 classes.\n",
      "Found 2000 images belonging to 2 classes.\n",
      "Found 40 images belonging to 2 classes.\n"
     ]
    }
   ],
   "source": [
    "#Generating batches using ImageDataGenerator\n",
    "train_batches = ImageDataGenerator().flow_from_directory(train_path, target_size=(224,224),classes=['cat','dog'], batch_size = 100)\n",
    "valid_batches = ImageDataGenerator().flow_from_directory(valid_path,target_size=(224,224),classes = ['cat','dog'],batch_size =50)\n",
    "test_batches = ImageDataGenerator().flow_from_directory(test_path,target_size=(224,224),classes=['cat','dog'],batch_size=10)"
   ]
  },
  {
   "cell_type": "code",
   "execution_count": 0,
   "metadata": {
    "colab": {},
    "colab_type": "code",
    "id": "x3CNoMKOaeW0"
   },
   "outputs": [],
   "source": [
    "# plotting images with labels\n",
    "def plots(ims, figsize=(12,6), rows=1, interp=False, titles=None):\n",
    "    if type(ims[0]) is np.ndarray:\n",
    "        ims = np.array(ims).astype(np.uint8)\n",
    "        if (ims.shape[-1]!=3):\n",
    "            ims = ims.transpose((0,2,3,1))\n",
    "    f = plt.figure(figsize=figsize)\n",
    "    cols = len(ims)//rows if len(ims)%2==0 else len(ims)//rows + 1\n",
    "    for i in range(len(ims)):\n",
    "        sp = f.add_subplot(rows,cols,i+1)\n",
    "        sp.axis('off')\n",
    "        if titles is not None:\n",
    "            sp.set_title(titles[i],fontsize=16)\n",
    "        plt.imshow(ims[i],interpolation = None if interp else 'none')\n",
    "            "
   ]
  },
  {
   "cell_type": "code",
   "execution_count": 0,
   "metadata": {
    "colab": {},
    "colab_type": "code",
    "id": "HL2FgmzJaeW2"
   },
   "outputs": [],
   "source": [
    "imgs,labels = next(train_batches)"
   ]
  },
  {
   "cell_type": "code",
   "execution_count": 0,
   "metadata": {
    "colab": {
     "base_uri": "https://localhost:8080/",
     "height": 71
    },
    "colab_type": "code",
    "id": "ZgqSvdjZaeW3",
    "outputId": "1c6de8b5-c225-431c-c0b4-5d4fe9d6d5f3"
   },
   "outputs": [
    {
     "data": {
      "image/png": "[encoded data removed]",
      "text/plain": [
       "<matplotlib.figure.Figure at 0x7f18c56649b0>"
      ]
     },
     "metadata": {
      "tags": []
     },
     "output_type": "display_data"
    }
   ],
   "source": [
    "plots(imgs,titles=labels)"
   ]
  },
  {
   "cell_type": "markdown",
   "metadata": {
    "colab_type": "text",
    "id": "OMUlAPkuaeW7"
   },
   "source": [
    "# Build and train CNN"
   ]
  },
  {
   "cell_type": "code",
   "execution_count": 0,
   "metadata": {
    "colab": {},
    "colab_type": "code",
    "id": "58g6LPSyaeW8"
   },
   "outputs": [],
   "source": [
    "model = Sequential([Conv2D(32,(3,3),activation='relu',input_shape=(224,224,3)),Flatten(),Dense(2,activation='softmax')])"
   ]
  },
  {
   "cell_type": "code",
   "execution_count": 0,
   "metadata": {
    "colab": {},
    "colab_type": "code",
    "id": "4KylpL79aeW-"
   },
   "outputs": [],
   "source": [
    "\n",
    "model.compile(RMSprop(lr=0.001),loss = 'categorical_crossentropy',metrics = ['accuracy'])"
   ]
  },
  {
   "cell_type": "code",
   "execution_count": 0,
   "metadata": {
    "colab": {
     "base_uri": "https://localhost:8080/",
     "height": 246
    },
    "colab_type": "code",
    "id": "rR8dHR2_aeXB",
    "outputId": "4a741b73-4e98-42b5-88d5-29199e8e09ff"
   },
   "outputs": [
    {
     "name": "stdout",
     "output_type": "stream",
     "text": [
      "_________________________________________________________________\n",
      "Layer (type)                 Output Shape              Param #   \n",
      "=================================================================\n",
      "conv2d_6 (Conv2D)            (None, 222, 222, 32)      896       \n",
      "_________________________________________________________________\n",
      "flatten_3 (Flatten)          (None, 1577088)           0         \n",
      "_________________________________________________________________\n",
      "dense_5 (Dense)              (None, 2)                 3154178   \n",
      "=================================================================\n",
      "Total params: 3,155,074\n",
      "Trainable params: 3,155,074\n",
      "Non-trainable params: 0\n",
      "_________________________________________________________________\n"
     ]
    }
   ],
   "source": [
    "model.summary()"
   ]
  },
  {
   "cell_type": "code",
   "execution_count": 0,
   "metadata": {
    "colab": {
     "base_uri": "https://localhost:8080/",
     "height": 210
    },
    "colab_type": "code",
    "id": "PpAARoR1aeXE",
    "outputId": "e3fb2706-a7f8-44a5-a8c2-879c75fe3ff1"
   },
   "outputs": [
    {
     "name": "stdout",
     "output_type": "stream",
     "text": [
      "Epoch 1/5\n",
      "40/40 [==============================] - 22s 549ms/step - loss: 7.8277 - acc: 0.5127 - val_loss: 8.0590 - val_acc: 0.5000\n",
      "Epoch 2/5\n",
      "40/40 [==============================] - 22s 541ms/step - loss: 8.2275 - acc: 0.4895 - val_loss: 8.0590 - val_acc: 0.5000\n",
      "Epoch 3/5\n",
      "40/40 [==============================] - 21s 537ms/step - loss: 8.1357 - acc: 0.4952 - val_loss: 8.0590 - val_acc: 0.5000\n",
      "Epoch 4/5\n",
      "40/40 [==============================] - 22s 540ms/step - loss: 7.9784 - acc: 0.5050 - val_loss: 8.0590 - val_acc: 0.5000\n",
      "Epoch 5/5\n",
      "40/40 [==============================] - 22s 540ms/step - loss: 8.0913 - acc: 0.4980 - val_loss: 8.0590 - val_acc: 0.5000\n"
     ]
    },
    {
     "data": {
      "text/plain": [
       "<keras.callbacks.History at 0x7f18c8511198>"
      ]
     },
     "execution_count": 68,
     "metadata": {
      "tags": []
     },
     "output_type": "execute_result"
    }
   ],
   "source": [
    "model.fit_generator(train_batches,steps_per_epoch=40,validation_data=valid_batches,validation_steps=40,epochs=5,verbose=1)"
   ]
  },
  {
   "cell_type": "code",
   "execution_count": 0,
   "metadata": {
    "colab": {
     "base_uri": "https://localhost:8080/",
     "height": 123
    },
    "colab_type": "code",
    "id": "oCPf9Bc1aeXH",
    "outputId": "a5374a58-950f-42f6-e34d-1685c2706b96"
   },
   "outputs": [
    {
     "data": {
      "image/png": "[encoded data removed]",
      "text/plain": [
       "<matplotlib.figure.Figure at 0x7f18c90f5b00>"
      ]
     },
     "metadata": {
      "tags": []
     },
     "output_type": "display_data"
    }
   ],
   "source": [
    "#we have not got a good results here we will do some fine-tuning of some parameters to improve the results\n",
    "#Before that lets do the prediction on our test data and see the confusion matrix\n",
    "\n",
    "test_imgs,test_labels = next(test_batches)\n",
    "plots(test_imgs,titles=test_labels)"
   ]
  },
  {
   "cell_type": "code",
   "execution_count": 0,
   "metadata": {
    "colab": {
     "base_uri": "https://localhost:8080/",
     "height": 34
    },
    "colab_type": "code",
    "id": "NDGka9ugaeXL",
    "outputId": "23e42515-a315-4188-c85d-43c41bc85b4d"
   },
   "outputs": [
    {
     "data": {
      "text/plain": [
       "array([1., 1., 0., 0., 1., 0., 1., 1., 0., 0.], dtype=float32)"
      ]
     },
     "execution_count": 70,
     "metadata": {
      "tags": []
     },
     "output_type": "execute_result"
    }
   ],
   "source": [
    "test_labels = test_labels[:,0]\n",
    "test_labels\n"
   ]
  },
  {
   "cell_type": "code",
   "execution_count": 0,
   "metadata": {
    "colab": {},
    "colab_type": "code",
    "id": "Wf9qrtM5aeXO"
   },
   "outputs": [],
   "source": [
    "Prediction = model.predict_generator(test_batches,steps=1,verbose=0)"
   ]
  },
  {
   "cell_type": "code",
   "execution_count": 0,
   "metadata": {
    "colab": {
     "base_uri": "https://localhost:8080/",
     "height": 193
    },
    "colab_type": "code",
    "id": "o--UoYVLaeXQ",
    "outputId": "8a6d7491-d8cd-4792-b136-bf0557a4f1d8"
   },
   "outputs": [
    {
     "data": {
      "text/plain": [
       "array([[0., 1.],\n",
       "       [0., 1.],\n",
       "       [0., 1.],\n",
       "       [0., 1.],\n",
       "       [0., 1.],\n",
       "       [0., 1.],\n",
       "       [0., 1.],\n",
       "       [0., 1.],\n",
       "       [0., 1.],\n",
       "       [0., 1.]], dtype=float32)"
      ]
     },
     "execution_count": 72,
     "metadata": {
      "tags": []
     },
     "output_type": "execute_result"
    }
   ],
   "source": [
    "Prediction"
   ]
  },
  {
   "cell_type": "code",
   "execution_count": 0,
   "metadata": {
    "colab": {},
    "colab_type": "code",
    "id": "Eb-bqlAbaeXW"
   },
   "outputs": [],
   "source": [
    "cm = confusion_matrix(test_labels,Prediction[:,0])"
   ]
  },
  {
   "cell_type": "code",
   "execution_count": 0,
   "metadata": {
    "colab": {},
    "colab_type": "code",
    "id": "YFDR2DMJaeXa"
   },
   "outputs": [],
   "source": [
    "#Simple program to plot confusion matrix (you can find this in scikit learn documentation)\n",
    "def plot_confusion_matrix(cm, classes,\n",
    "                          normalize=False,\n",
    "                          title='Confusion matrix',\n",
    "                          cmap=plt.cm.Blues):\n",
    "    \"\"\"\n",
    "    This function prints and plots the confusion matrix.\n",
    "    Normalization can be applied by setting `normalize=True`.\n",
    "    \"\"\"\n",
    "    if normalize:\n",
    "        cm = cm.astype('float') / cm.sum(axis=1)[:, np.newaxis]\n",
    "        print(\"Normalized confusion matrix\")\n",
    "    else:\n",
    "        print('Confusion matrix, without normalization')\n",
    "\n",
    "    print(cm)\n",
    "\n",
    "    plt.imshow(cm, interpolation='nearest', cmap=cmap)\n",
    "    plt.title(title)\n",
    "    plt.colorbar()\n",
    "    tick_marks = np.arange(len(classes))\n",
    "    plt.xticks(tick_marks, classes, rotation=45)\n",
    "    plt.yticks(tick_marks, classes)\n",
    "\n",
    "    fmt = '.2f' if normalize else 'd'\n",
    "    thresh = cm.max() / 2.\n",
    "    for i, j in itertools.product(range(cm.shape[0]), range(cm.shape[1])):\n",
    "        plt.text(j, i, format(cm[i, j], fmt),\n",
    "                 horizontalalignment=\"center\",\n",
    "                 color=\"white\" if cm[i, j] > thresh else \"black\")\n",
    "\n",
    "    plt.ylabel('True label')\n",
    "    plt.xlabel('Predicted label')\n",
    "    plt.tight_layout()"
   ]
  },
  {
   "cell_type": "code",
   "execution_count": 0,
   "metadata": {
    "colab": {
     "base_uri": "https://localhost:8080/",
     "height": 350
    },
    "colab_type": "code",
    "id": "Bfii4HGOaeXd",
    "outputId": "cf1c81e2-4997-4414-8ab0-443107fe152c"
   },
   "outputs": [
    {
     "name": "stdout",
     "output_type": "stream",
     "text": [
      "Confusion matrix, without normalization\n",
      "[[5 0]\n",
      " [5 0]]\n"
     ]
    },
    {
     "data": {
      "image/png": "[encoded data removed]",
      "text/plain": [
       "<matplotlib.figure.Figure at 0x7f18c9e55400>"
      ]
     },
     "metadata": {
      "tags": []
     },
     "output_type": "display_data"
    }
   ],
   "source": [
    "cm_plot_labels = ['cat','dog']\n",
    "plot_confusion_matrix(cm,cm_plot_labels,title = 'Confusion Matrix')"
   ]
  },
  {
   "cell_type": "markdown",
   "metadata": {
    "colab_type": "text",
    "id": "n9Ej6TYGJP3t"
   },
   "source": [
    "####As we can see from confusion matrix i.e, only 50% accuracy we got\n",
    "####we will use now pre-trained  vgg16 model and evaluate \n",
    "\n",
    "#What is a Pre-trained Model?\n",
    "A pre-trained model has been previously trained on a dataset and contains the weights and biases that represent the features of whichever dataset it was trained on. Learned features are often transferable to different data. For example, a model trained on a large dataset of bird images will contain learned features like edges or horizontal lines that you would be transferable your dataset.\n",
    "\n",
    "#Why use a Pre-trained Model?\n",
    "Pre-trained models are beneficial to us for many reasons. By using a pre-trained model you are saving time. Someone else has already spent the time and compute resources to learn a lot of features and your model will likely benefit from it.\n"
   ]
  },
  {
   "cell_type": "markdown",
   "metadata": {
    "colab_type": "text",
    "id": "emcBkU4-aeXk"
   },
   "source": [
    "# Building Fine-Tuned VGG16"
   ]
  },
  {
   "cell_type": "markdown",
   "metadata": {
    "colab_type": "text",
    "id": "04Xk3PLuzXA9"
   },
   "source": [
    "VGG16 is a deep convolutional network for object recognition developed and trained by Oxford's renowned Visual Geometry Group (VGG), which achieved very good performance on the ImageNet dataset."
   ]
  },
  {
   "cell_type": "code",
   "execution_count": 0,
   "metadata": {
    "colab": {},
    "colab_type": "code",
    "id": "7LrfimZxaeXk"
   },
   "outputs": [],
   "source": [
    "from keras.applications import vgg16\n",
    "from keras.models import Model\n",
    "import keras\n",
    "import numpy as np\n",
    "from keras import backend as k\n",
    "from keras.models import Sequential\n",
    "from keras.layers import Activation\n",
    "from keras.layers.core import Dense\n",
    "from keras.optimizers import Adam\n",
    "from keras.metrics import categorical_crossentropy\n",
    "vgg16_model = keras.applications.vgg16.VGG16()\n"
   ]
  },
  {
   "cell_type": "code",
   "execution_count": 0,
   "metadata": {
    "colab": {
     "base_uri": "https://localhost:8080/",
     "height": 34
    },
    "colab_type": "code",
    "id": "dnviCThWaeXm",
    "outputId": "0af94ab8-7a10-4863-ac8e-54e6dac368cf"
   },
   "outputs": [
    {
     "data": {
      "text/plain": [
       "keras.engine.training.Model"
      ]
     },
     "execution_count": 77,
     "metadata": {
      "tags": []
     },
     "output_type": "execute_result"
    }
   ],
   "source": [
    "#vgg16_model.summary()\n",
    "type(vgg16_model)"
   ]
  },
  {
   "cell_type": "code",
   "execution_count": 0,
   "metadata": {
    "colab": {},
    "colab_type": "code",
    "id": "Bt6GljI9aeXq"
   },
   "outputs": [],
   "source": [
    "#changing it into sequential \n",
    "model = Sequential()\n",
    "for layer in vgg16_model.layers:\n",
    "    model.add(layer)"
   ]
  },
  {
   "cell_type": "code",
   "execution_count": 0,
   "metadata": {
    "colab": {
     "base_uri": "https://localhost:8080/",
     "height": 950
    },
    "colab_type": "code",
    "id": "bpD_SCIdaeXs",
    "outputId": "429ddf37-c102-4f50-9014-7b6a5a9716c8"
   },
   "outputs": [
    {
     "name": "stdout",
     "output_type": "stream",
     "text": [
      "_________________________________________________________________\n",
      "Layer (type)                 Output Shape              Param #   \n",
      "=================================================================\n",
      "input_2 (InputLayer)         (None, 224, 224, 3)       0         \n",
      "_________________________________________________________________\n",
      "block1_conv1 (Conv2D)        (None, 224, 224, 64)      1792      \n",
      "_________________________________________________________________\n",
      "block1_conv2 (Conv2D)        (None, 224, 224, 64)      36928     \n",
      "_________________________________________________________________\n",
      "block1_pool (MaxPooling2D)   (None, 112, 112, 64)      0         \n",
      "_________________________________________________________________\n",
      "block2_conv1 (Conv2D)        (None, 112, 112, 128)     73856     \n",
      "_________________________________________________________________\n",
      "block2_conv2 (Conv2D)        (None, 112, 112, 128)     147584    \n",
      "_________________________________________________________________\n",
      "block2_pool (MaxPooling2D)   (None, 56, 56, 128)       0         \n",
      "_________________________________________________________________\n",
      "block3_conv1 (Conv2D)        (None, 56, 56, 256)       295168    \n",
      "_________________________________________________________________\n",
      "block3_conv2 (Conv2D)        (None, 56, 56, 256)       590080    \n",
      "_________________________________________________________________\n",
      "block3_conv3 (Conv2D)        (None, 56, 56, 256)       590080    \n",
      "_________________________________________________________________\n",
      "block3_pool (MaxPooling2D)   (None, 28, 28, 256)       0         \n",
      "_________________________________________________________________\n",
      "block4_conv1 (Conv2D)        (None, 28, 28, 512)       1180160   \n",
      "_________________________________________________________________\n",
      "block4_conv2 (Conv2D)        (None, 28, 28, 512)       2359808   \n",
      "_________________________________________________________________\n",
      "block4_conv3 (Conv2D)        (None, 28, 28, 512)       2359808   \n",
      "_________________________________________________________________\n",
      "block4_pool (MaxPooling2D)   (None, 14, 14, 512)       0         \n",
      "_________________________________________________________________\n",
      "block5_conv1 (Conv2D)        (None, 14, 14, 512)       2359808   \n",
      "_________________________________________________________________\n",
      "block5_conv2 (Conv2D)        (None, 14, 14, 512)       2359808   \n",
      "_________________________________________________________________\n",
      "block5_conv3 (Conv2D)        (None, 14, 14, 512)       2359808   \n",
      "_________________________________________________________________\n",
      "block5_pool (MaxPooling2D)   (None, 7, 7, 512)         0         \n",
      "_________________________________________________________________\n",
      "flatten (Flatten)            (None, 25088)             0         \n",
      "_________________________________________________________________\n",
      "fc1 (Dense)                  (None, 4096)              102764544 \n",
      "_________________________________________________________________\n",
      "fc2 (Dense)                  (None, 4096)              16781312  \n",
      "_________________________________________________________________\n",
      "predictions (Dense)          (None, 1000)              4097000   \n",
      "=================================================================\n",
      "Total params: 138,357,544\n",
      "Trainable params: 138,357,544\n",
      "Non-trainable params: 0\n",
      "_________________________________________________________________\n"
     ]
    }
   ],
   "source": [
    "model.summary()"
   ]
  },
  {
   "cell_type": "code",
   "execution_count": 0,
   "metadata": {
    "colab": {
     "base_uri": "https://localhost:8080/",
     "height": 34
    },
    "colab_type": "code",
    "id": "G0uO5xV1xY-o",
    "outputId": "577dbaa9-5564-402e-ca9d-2553b6f4601d"
   },
   "outputs": [
    {
     "data": {
      "text/plain": [
       "keras.models.Sequential"
      ]
     },
     "execution_count": 80,
     "metadata": {
      "tags": []
     },
     "output_type": "execute_result"
    }
   ],
   "source": [
    "type(model)"
   ]
  },
  {
   "cell_type": "code",
   "execution_count": 0,
   "metadata": {
    "colab": {
     "base_uri": "https://localhost:8080/",
     "height": 34
    },
    "colab_type": "code",
    "id": "m6ELGd4TxjvN",
    "outputId": "0874bcd3-18e7-4844-b08c-ce9b23f873d7"
   },
   "outputs": [
    {
     "data": {
      "text/plain": [
       "<keras.layers.core.Dense at 0x7f18c9c25c50>"
      ]
     },
     "execution_count": 81,
     "metadata": {
      "tags": []
     },
     "output_type": "execute_result"
    }
   ],
   "source": [
    "model.layers.pop()# this is to remove the last layer i.e, dense 1000 class layer and later we add dense 2 class for our model"
   ]
  },
  {
   "cell_type": "code",
   "execution_count": 0,
   "metadata": {
    "colab": {
     "base_uri": "https://localhost:8080/",
     "height": 914
    },
    "colab_type": "code",
    "id": "vj3xK_mGx-Wr",
    "outputId": "f122e361-8658-4ba9-82f9-7a7ec10452b2"
   },
   "outputs": [
    {
     "name": "stdout",
     "output_type": "stream",
     "text": [
      "_________________________________________________________________\n",
      "Layer (type)                 Output Shape              Param #   \n",
      "=================================================================\n",
      "input_2 (InputLayer)         (None, 224, 224, 3)       0         \n",
      "_________________________________________________________________\n",
      "block1_conv1 (Conv2D)        (None, 224, 224, 64)      1792      \n",
      "_________________________________________________________________\n",
      "block1_conv2 (Conv2D)        (None, 224, 224, 64)      36928     \n",
      "_________________________________________________________________\n",
      "block1_pool (MaxPooling2D)   (None, 112, 112, 64)      0         \n",
      "_________________________________________________________________\n",
      "block2_conv1 (Conv2D)        (None, 112, 112, 128)     73856     \n",
      "_________________________________________________________________\n",
      "block2_conv2 (Conv2D)        (None, 112, 112, 128)     147584    \n",
      "_________________________________________________________________\n",
      "block2_pool (MaxPooling2D)   (None, 56, 56, 128)       0         \n",
      "_________________________________________________________________\n",
      "block3_conv1 (Conv2D)        (None, 56, 56, 256)       295168    \n",
      "_________________________________________________________________\n",
      "block3_conv2 (Conv2D)        (None, 56, 56, 256)       590080    \n",
      "_________________________________________________________________\n",
      "block3_conv3 (Conv2D)        (None, 56, 56, 256)       590080    \n",
      "_________________________________________________________________\n",
      "block3_pool (MaxPooling2D)   (None, 28, 28, 256)       0         \n",
      "_________________________________________________________________\n",
      "block4_conv1 (Conv2D)        (None, 28, 28, 512)       1180160   \n",
      "_________________________________________________________________\n",
      "block4_conv2 (Conv2D)        (None, 28, 28, 512)       2359808   \n",
      "_________________________________________________________________\n",
      "block4_conv3 (Conv2D)        (None, 28, 28, 512)       2359808   \n",
      "_________________________________________________________________\n",
      "block4_pool (MaxPooling2D)   (None, 14, 14, 512)       0         \n",
      "_________________________________________________________________\n",
      "block5_conv1 (Conv2D)        (None, 14, 14, 512)       2359808   \n",
      "_________________________________________________________________\n",
      "block5_conv2 (Conv2D)        (None, 14, 14, 512)       2359808   \n",
      "_________________________________________________________________\n",
      "block5_conv3 (Conv2D)        (None, 14, 14, 512)       2359808   \n",
      "_________________________________________________________________\n",
      "block5_pool (MaxPooling2D)   (None, 7, 7, 512)         0         \n",
      "_________________________________________________________________\n",
      "flatten (Flatten)            (None, 25088)             0         \n",
      "_________________________________________________________________\n",
      "fc1 (Dense)                  (None, 4096)              102764544 \n",
      "_________________________________________________________________\n",
      "fc2 (Dense)                  (None, 4096)              16781312  \n",
      "=================================================================\n",
      "Total params: 134,260,544\n",
      "Trainable params: 134,260,544\n",
      "Non-trainable params: 0\n",
      "_________________________________________________________________\n"
     ]
    }
   ],
   "source": [
    "model.summary()"
   ]
  },
  {
   "cell_type": "markdown",
   "metadata": {
    "colab_type": "text",
    "id": "i9aXb-T9xDUA"
   },
   "source": [
    "As we are using the pre-trained model namely VGG16 which was already trained on whole imagenet dataset. Now we dont want to update our weights  of this model as it has already been trained very well therefore we freeze the layers."
   ]
  },
  {
   "cell_type": "code",
   "execution_count": 0,
   "metadata": {
    "colab": {},
    "colab_type": "code",
    "id": "lYspIgfKaeX5"
   },
   "outputs": [],
   "source": [
    "for layer in model.layers:\n",
    "    #This is used to freeze this layer means it will not learn any feature\n",
    "    layer.trainable = False"
   ]
  },
  {
   "cell_type": "code",
   "execution_count": 0,
   "metadata": {
    "colab": {},
    "colab_type": "code",
    "id": "oyToSHfwE-Sc"
   },
   "outputs": [],
   "source": [
    "model.add(Dense(2, activation = 'softmax'))"
   ]
  },
  {
   "cell_type": "code",
   "execution_count": 0,
   "metadata": {
    "colab": {
     "base_uri": "https://localhost:8080/",
     "height": 950
    },
    "colab_type": "code",
    "id": "mkCXWtCrFQAQ",
    "outputId": "109ee62a-071f-42ce-d8a5-2a56e41280b1"
   },
   "outputs": [
    {
     "name": "stdout",
     "output_type": "stream",
     "text": [
      "_________________________________________________________________\n",
      "Layer (type)                 Output Shape              Param #   \n",
      "=================================================================\n",
      "input_2 (InputLayer)         (None, 224, 224, 3)       0         \n",
      "_________________________________________________________________\n",
      "block1_conv1 (Conv2D)        (None, 224, 224, 64)      1792      \n",
      "_________________________________________________________________\n",
      "block1_conv2 (Conv2D)        (None, 224, 224, 64)      36928     \n",
      "_________________________________________________________________\n",
      "block1_pool (MaxPooling2D)   (None, 112, 112, 64)      0         \n",
      "_________________________________________________________________\n",
      "block2_conv1 (Conv2D)        (None, 112, 112, 128)     73856     \n",
      "_________________________________________________________________\n",
      "block2_conv2 (Conv2D)        (None, 112, 112, 128)     147584    \n",
      "_________________________________________________________________\n",
      "block2_pool (MaxPooling2D)   (None, 56, 56, 128)       0         \n",
      "_________________________________________________________________\n",
      "block3_conv1 (Conv2D)        (None, 56, 56, 256)       295168    \n",
      "_________________________________________________________________\n",
      "block3_conv2 (Conv2D)        (None, 56, 56, 256)       590080    \n",
      "_________________________________________________________________\n",
      "block3_conv3 (Conv2D)        (None, 56, 56, 256)       590080    \n",
      "_________________________________________________________________\n",
      "block3_pool (MaxPooling2D)   (None, 28, 28, 256)       0         \n",
      "_________________________________________________________________\n",
      "block4_conv1 (Conv2D)        (None, 28, 28, 512)       1180160   \n",
      "_________________________________________________________________\n",
      "block4_conv2 (Conv2D)        (None, 28, 28, 512)       2359808   \n",
      "_________________________________________________________________\n",
      "block4_conv3 (Conv2D)        (None, 28, 28, 512)       2359808   \n",
      "_________________________________________________________________\n",
      "block4_pool (MaxPooling2D)   (None, 14, 14, 512)       0         \n",
      "_________________________________________________________________\n",
      "block5_conv1 (Conv2D)        (None, 14, 14, 512)       2359808   \n",
      "_________________________________________________________________\n",
      "block5_conv2 (Conv2D)        (None, 14, 14, 512)       2359808   \n",
      "_________________________________________________________________\n",
      "block5_conv3 (Conv2D)        (None, 14, 14, 512)       2359808   \n",
      "_________________________________________________________________\n",
      "block5_pool (MaxPooling2D)   (None, 7, 7, 512)         0         \n",
      "_________________________________________________________________\n",
      "flatten (Flatten)            (None, 25088)             0         \n",
      "_________________________________________________________________\n",
      "fc1 (Dense)                  (None, 4096)              102764544 \n",
      "_________________________________________________________________\n",
      "fc2 (Dense)                  (None, 4096)              16781312  \n",
      "_________________________________________________________________\n",
      "dense_6 (Dense)              (None, 2)                 2002      \n",
      "=================================================================\n",
      "Total params: 134,262,546\n",
      "Trainable params: 2,002\n",
      "Non-trainable params: 134,260,544\n",
      "_________________________________________________________________\n"
     ]
    }
   ],
   "source": [
    "model.summary()"
   ]
  },
  {
   "cell_type": "markdown",
   "metadata": {
    "colab_type": "text",
    "id": "7IX3NG6zaeYC"
   },
   "source": [
    "# Training the Fine-tuned VGG16"
   ]
  },
  {
   "cell_type": "code",
   "execution_count": 0,
   "metadata": {
    "colab": {},
    "colab_type": "code",
    "id": "odE1IOZVaeYD"
   },
   "outputs": [],
   "source": [
    "model.compile(Adam(lr=0.001),loss = 'categorical_crossentropy',metrics = ['accuracy'])"
   ]
  },
  {
   "cell_type": "code",
   "execution_count": 0,
   "metadata": {
    "colab": {
     "base_uri": "https://localhost:8080/",
     "height": 210
    },
    "colab_type": "code",
    "id": "18v9GLUZaeYG",
    "outputId": "41eac7ea-d890-47ff-b4c1-5550d8a49bf4"
   },
   "outputs": [
    {
     "name": "stdout",
     "output_type": "stream",
     "text": [
      "Epoch 1/5\n",
      "40/40 [==============================] - 58s 1s/step - loss: 0.6255 - acc: 0.9357 - val_loss: 0.5990 - val_acc: 0.9520\n",
      "Epoch 2/5\n",
      "40/40 [==============================] - 57s 1s/step - loss: 0.5731 - acc: 0.9747 - val_loss: 0.5551 - val_acc: 0.9560\n",
      "Epoch 3/5\n",
      "40/40 [==============================] - 57s 1s/step - loss: 0.5295 - acc: 0.9775 - val_loss: 0.5135 - val_acc: 0.9685\n",
      "Epoch 4/5\n",
      "40/40 [==============================] - 57s 1s/step - loss: 0.4905 - acc: 0.9830 - val_loss: 0.4815 - val_acc: 0.9650\n",
      "Epoch 5/5\n",
      "40/40 [==============================] - 57s 1s/step - loss: 0.4576 - acc: 0.9865 - val_loss: 0.4577 - val_acc: 0.9590\n"
     ]
    },
    {
     "data": {
      "text/plain": [
       "<keras.callbacks.History at 0x7f18c9eecbe0>"
      ]
     },
     "execution_count": 87,
     "metadata": {
      "tags": []
     },
     "output_type": "execute_result"
    }
   ],
   "source": [
    "model.fit_generator(train_batches,steps_per_epoch=40,validation_data=valid_batches,validation_steps=40,epochs=5,verbose=1)\n"
   ]
  },
  {
   "cell_type": "code",
   "execution_count": 0,
   "metadata": {
    "colab": {},
    "colab_type": "code",
    "id": "t3mLEBVkaeYK"
   },
   "outputs": [],
   "source": [
    "#model.save('VGG16_cats_and_dogs.h5')"
   ]
  },
  {
   "cell_type": "code",
   "execution_count": 0,
   "metadata": {
    "colab": {},
    "colab_type": "code",
    "id": "fMj2d12haeYU"
   },
   "outputs": [],
   "source": [
    "#Prediction\n",
    "prediction = model.predict_generator(test_batches,steps=1,verbose=0)"
   ]
  },
  {
   "cell_type": "code",
   "execution_count": 0,
   "metadata": {
    "colab": {},
    "colab_type": "code",
    "id": "w_3wz6xraeYX"
   },
   "outputs": [],
   "source": [
    "#rounding off the predicted values\n",
    "np.round(prediction)"
   ]
  },
  {
   "cell_type": "code",
   "execution_count": 0,
   "metadata": {
    "colab": {},
    "colab_type": "code",
    "id": "FMUI5ktPaeYb"
   },
   "outputs": [],
   "source": [
    "#Plotting the confusion matrix\n",
    "cm = confusion_matrix(test_labels,np.round(prediction[:,0]))"
   ]
  },
  {
   "cell_type": "code",
   "execution_count": 0,
   "metadata": {
    "colab": {
     "base_uri": "https://localhost:8080/",
     "height": 350
    },
    "colab_type": "code",
    "id": "QkvW2PR2aeYf",
    "outputId": "2899eca1-f279-4657-ef58-cad0bc5940c5"
   },
   "outputs": [
    {
     "name": "stdout",
     "output_type": "stream",
     "text": [
      "Confusion matrix, without normalization\n",
      "[[5 0]\n",
      " [0 5]]\n"
     ]
    },
    {
     "data": {
      "image/png": "[encoded data removed]",
      "text/plain": [
       "<matplotlib.figure.Figure at 0x7f18ad50c0f0>"
      ]
     },
     "metadata": {
      "tags": []
     },
     "output_type": "display_data"
    }
   ],
   "source": [
    "cm_plot_labels = ['cat','dog']\n",
    "plot_confusion_matrix(cm,cm_plot_labels,title = 'Confusion Matrix for VGG16')"
   ]
  },
  {
   "cell_type": "markdown",
   "metadata": {
    "colab_type": "text",
    "id": "fbFTOk0tJyS1"
   },
   "source": [
    "####As you can see we have got  around 95%  validation accuracy using pre-trained vgg16 model using 4000 training images.Further we try some Data Augmentation.\n",
    "Data Augmentation is a process to generate more training data i.e, by rotating,zooming, shift etc "
   ]
  },
  {
   "cell_type": "markdown",
   "metadata": {
    "colab_type": "text",
    "id": "ElNSaSixUbE0"
   },
   "source": [
    "#Data Augmentation"
   ]
  },
  {
   "cell_type": "code",
   "execution_count": 0,
   "metadata": {
    "colab": {},
    "colab_type": "code",
    "id": "2zhEWPcUF-PP"
   },
   "outputs": [],
   "source": [
    "from keras.models import Sequential\n",
    "from keras.layers import Conv2D\n",
    "from keras.layers import MaxPooling2D\n",
    "from keras.layers import Flatten\n",
    "from keras.layers import Dense\n",
    "# CNN\n",
    "classifier = Sequential()\n",
    "classifier.add(Conv2D(32, (3, 3), input_shape = (64, 64, 3), activation = 'relu'))\n",
    "classifier.add(MaxPooling2D(pool_size = (2, 2)))\n",
    "\n",
    "\n",
    "classifier.add(Conv2D(32, (3, 3), activation = 'relu'))\n",
    "classifier.add(MaxPooling2D(pool_size = (2, 2)))\n",
    "\n",
    "classifier.add(Flatten())\n",
    "\n",
    "classifier.add(Dense(units = 128, activation = 'relu'))\n",
    "classifier.add(Dense(units = 2, activation = 'softmax'))\n",
    "\n",
    "classifier.compile(optimizer = 'adam', loss = 'categorical_crossentropy', metrics = ['accuracy'])"
   ]
  },
  {
   "cell_type": "code",
   "execution_count": 0,
   "metadata": {
    "colab": {},
    "colab_type": "code",
    "id": "CnRveEhTJywd"
   },
   "outputs": [],
   "source": [
    "#Augmenting the data to generate more training set\n",
    "from keras.preprocessing.image import ImageDataGenerator\n",
    "train_datagen = ImageDataGenerator(rescale = 1./255,\n",
    " shear_range = 0.2,\n",
    " zoom_range = 0.2,\n",
    " horizontal_flip = True)\n",
    "valid_datagen = ImageDataGenerator(rescale = 1./255)"
   ]
  },
  {
   "cell_type": "code",
   "execution_count": 0,
   "metadata": {
    "colab": {
     "base_uri": "https://localhost:8080/",
     "height": 52
    },
    "colab_type": "code",
    "id": "GMJzahmtJ4UM",
    "outputId": "43cb5733-3912-4d25-eea3-a86455ae6e81"
   },
   "outputs": [
    {
     "name": "stdout",
     "output_type": "stream",
     "text": [
      "Found 4002 images belonging to 2 classes.\n",
      "Found 2000 images belonging to 2 classes.\n"
     ]
    }
   ],
   "source": [
    "#creating training and validation sets\n",
    "training_set = train_datagen.flow_from_directory('Image_Classification_CNN/dogs_and_cats/training_set',\n",
    " target_size = (64, 64),\n",
    " batch_size = 32,\n",
    " classes = ['cat','dog'])\n",
    "validation_set = valid_datagen.flow_from_directory('Image_Classification_CNN/dogs_and_cats/validation_set',\n",
    " target_size = (64, 64),\n",
    " batch_size = 32,\n",
    " classes = ['cat','dog'])"
   ]
  },
  {
   "cell_type": "code",
   "execution_count": 0,
   "metadata": {
    "colab": {
     "base_uri": "https://localhost:8080/",
     "height": 738
    },
    "colab_type": "code",
    "id": "JGVNd2QPKYGP",
    "outputId": "37c3ec34-c3ef-4cc5-fd2a-70fc9e82d1cd"
   },
   "outputs": [
    {
     "name": "stdout",
     "output_type": "stream",
     "text": [
      "Epoch 1/20\n",
      "126/125 [==============================] - 23s 183ms/step - loss: 0.6912 - acc: 0.5468 - val_loss: 0.6734 - val_acc: 0.5555\n",
      "Epoch 2/20\n",
      "126/125 [==============================] - 22s 171ms/step - loss: 0.6534 - acc: 0.6191 - val_loss: 0.6553 - val_acc: 0.6220\n",
      "Epoch 3/20\n",
      "126/125 [==============================] - 21s 168ms/step - loss: 0.6271 - acc: 0.6535 - val_loss: 0.5987 - val_acc: 0.6805\n",
      "Epoch 4/20\n",
      "126/125 [==============================] - 21s 170ms/step - loss: 0.5801 - acc: 0.6927 - val_loss: 0.7387 - val_acc: 0.6220\n",
      "Epoch 5/20\n",
      "126/125 [==============================] - 21s 168ms/step - loss: 0.5592 - acc: 0.7138 - val_loss: 0.5506 - val_acc: 0.7115\n",
      "Epoch 6/20\n",
      "126/125 [==============================] - 21s 168ms/step - loss: 0.5384 - acc: 0.7304 - val_loss: 0.5623 - val_acc: 0.7130\n",
      "Epoch 7/20\n",
      "126/125 [==============================] - 21s 169ms/step - loss: 0.5191 - acc: 0.7426 - val_loss: 0.5393 - val_acc: 0.7220\n",
      "Epoch 8/20\n",
      "126/125 [==============================] - 21s 169ms/step - loss: 0.4990 - acc: 0.7555 - val_loss: 0.5592 - val_acc: 0.7050\n",
      "Epoch 9/20\n",
      "126/125 [==============================] - 21s 169ms/step - loss: 0.4821 - acc: 0.7698 - val_loss: 0.5135 - val_acc: 0.7420\n",
      "Epoch 10/20\n",
      "126/125 [==============================] - 21s 169ms/step - loss: 0.4942 - acc: 0.7557 - val_loss: 0.5264 - val_acc: 0.7440\n",
      "Epoch 11/20\n",
      "126/125 [==============================] - 21s 169ms/step - loss: 0.4663 - acc: 0.7810 - val_loss: 0.5116 - val_acc: 0.7495\n",
      "Epoch 12/20\n",
      "126/125 [==============================] - 22s 178ms/step - loss: 0.4307 - acc: 0.8090 - val_loss: 0.5988 - val_acc: 0.7355\n",
      "Epoch 13/20\n",
      "126/125 [==============================] - 21s 169ms/step - loss: 0.4366 - acc: 0.7949 - val_loss: 0.5083 - val_acc: 0.7520\n",
      "Epoch 14/20\n",
      "126/125 [==============================] - 21s 169ms/step - loss: 0.4239 - acc: 0.8100 - val_loss: 0.5731 - val_acc: 0.7225\n",
      "Epoch 15/20\n",
      "126/125 [==============================] - 21s 168ms/step - loss: 0.4263 - acc: 0.7967 - val_loss: 0.6742 - val_acc: 0.6075\n",
      "Epoch 16/20\n",
      "126/125 [==============================] - 21s 170ms/step - loss: 0.4405 - acc: 0.7976 - val_loss: 0.4993 - val_acc: 0.7660\n",
      "Epoch 17/20\n",
      "126/125 [==============================] - 21s 170ms/step - loss: 0.3796 - acc: 0.8289 - val_loss: 0.5386 - val_acc: 0.7595\n",
      "Epoch 18/20\n",
      "126/125 [==============================] - 21s 169ms/step - loss: 0.3768 - acc: 0.8281 - val_loss: 0.6185 - val_acc: 0.7320\n",
      "Epoch 19/20\n",
      "126/125 [==============================] - 21s 169ms/step - loss: 0.3589 - acc: 0.8413 - val_loss: 0.5871 - val_acc: 0.7420\n",
      "Epoch 20/20\n",
      "126/125 [==============================] - 21s 168ms/step - loss: 0.3388 - acc: 0.8564 - val_loss: 0.5384 - val_acc: 0.7585\n"
     ]
    },
    {
     "data": {
      "text/plain": [
       "<keras.callbacks.History at 0x7f08677207b8>"
      ]
     },
     "execution_count": 16,
     "metadata": {
      "tags": []
     },
     "output_type": "execute_result"
    }
   ],
   "source": [
    "classifier.fit_generator(training_set,\n",
    " steps_per_epoch = 4002/32,\n",
    " epochs = 20,\n",
    " validation_data = validation_set,\n",
    " validation_steps = 2000/32)"
   ]
  },
  {
   "cell_type": "markdown",
   "metadata": {
    "colab_type": "text",
    "id": "qEqbdMVXVfpP"
   },
   "source": [
    "We have got around 75 percent accuracy with a simple CNN using Data Augmentation\n",
    "\n",
    "Using the same CNN model let's train with our normal data where no data augmentation was done and later compare both the results"
   ]
  },
  {
   "cell_type": "code",
   "execution_count": 0,
   "metadata": {
    "colab": {
     "base_uri": "https://localhost:8080/",
     "height": 52
    },
    "colab_type": "code",
    "id": "2H0E2YEyi08V",
    "outputId": "62f76837-36cf-4319-db95-aef3183a70b9"
   },
   "outputs": [
    {
     "name": "stdout",
     "output_type": "stream",
     "text": [
      "Found 4002 images belonging to 2 classes.\n",
      "Found 2000 images belonging to 2 classes.\n"
     ]
    }
   ],
   "source": [
    "train_batches1 = ImageDataGenerator().flow_from_directory(train_path, target_size=(64,64),classes=['cat','dog'], batch_size = 32)\n",
    "valid_batches1 = ImageDataGenerator().flow_from_directory(valid_path,target_size=(64,64),classes = ['cat','dog'],batch_size =32)\n"
   ]
  },
  {
   "cell_type": "code",
   "execution_count": 0,
   "metadata": {
    "colab": {
     "base_uri": "https://localhost:8080/",
     "height": 738
    },
    "colab_type": "code",
    "id": "nJHqWalhivaG",
    "outputId": "ee690ab7-1dd9-4025-e6e4-ef146334002b"
   },
   "outputs": [
    {
     "name": "stdout",
     "output_type": "stream",
     "text": [
      "Epoch 1/20\n",
      "126/125 [==============================] - 18s 139ms/step - loss: 7.9261 - acc: 0.5082 - val_loss: 8.0590 - val_acc: 0.5000\n",
      "Epoch 2/20\n",
      "126/125 [==============================] - 17s 132ms/step - loss: 8.1527 - acc: 0.4940 - val_loss: 8.0590 - val_acc: 0.5000\n",
      "Epoch 3/20\n",
      "126/125 [==============================] - 17s 133ms/step - loss: 8.0590 - acc: 0.5000 - val_loss: 8.0590 - val_acc: 0.5000\n",
      "Epoch 4/20\n",
      "126/125 [==============================] - 17s 133ms/step - loss: 8.1185 - acc: 0.4963 - val_loss: 8.0590 - val_acc: 0.5000\n",
      "Epoch 5/20\n",
      "126/125 [==============================] - 17s 133ms/step - loss: 8.0590 - acc: 0.5000 - val_loss: 8.0590 - val_acc: 0.5000\n",
      "Epoch 6/20\n",
      "126/125 [==============================] - 17s 132ms/step - loss: 8.0590 - acc: 0.5000 - val_loss: 8.0590 - val_acc: 0.5000\n",
      "Epoch 7/20\n",
      "126/125 [==============================] - 17s 132ms/step - loss: 8.0590 - acc: 0.5000 - val_loss: 8.0590 - val_acc: 0.5000\n",
      "Epoch 8/20\n",
      "126/125 [==============================] - 17s 133ms/step - loss: 8.0590 - acc: 0.5000 - val_loss: 8.0590 - val_acc: 0.5000\n",
      "Epoch 9/20\n",
      "126/125 [==============================] - 17s 132ms/step - loss: 8.0590 - acc: 0.5000 - val_loss: 8.0590 - val_acc: 0.5000\n",
      "Epoch 10/20\n",
      "126/125 [==============================] - 17s 133ms/step - loss: 8.1185 - acc: 0.4963 - val_loss: 8.0590 - val_acc: 0.5000\n",
      "Epoch 11/20\n",
      "126/125 [==============================] - 17s 132ms/step - loss: 7.9996 - acc: 0.5037 - val_loss: 8.0590 - val_acc: 0.5000\n",
      "Epoch 12/20\n",
      "126/125 [==============================] - 17s 134ms/step - loss: 8.0590 - acc: 0.5000 - val_loss: 8.0590 - val_acc: 0.5000\n",
      "Epoch 13/20\n",
      "126/125 [==============================] - 17s 137ms/step - loss: 8.0590 - acc: 0.5000 - val_loss: 8.0590 - val_acc: 0.5000\n",
      "Epoch 14/20\n",
      "126/125 [==============================] - 17s 132ms/step - loss: 8.0590 - acc: 0.5000 - val_loss: 8.0590 - val_acc: 0.5000\n",
      "Epoch 15/20\n",
      "126/125 [==============================] - 17s 131ms/step - loss: 7.9996 - acc: 0.5037 - val_loss: 8.0590 - val_acc: 0.5000\n",
      "Epoch 16/20\n",
      "126/125 [==============================] - 17s 133ms/step - loss: 8.0590 - acc: 0.5000 - val_loss: 8.0590 - val_acc: 0.5000\n",
      "Epoch 17/20\n",
      "126/125 [==============================] - 17s 133ms/step - loss: 8.0590 - acc: 0.5000 - val_loss: 8.0590 - val_acc: 0.5000\n",
      "Epoch 18/20\n",
      "126/125 [==============================] - 17s 132ms/step - loss: 8.1185 - acc: 0.4963 - val_loss: 8.0590 - val_acc: 0.5000\n",
      "Epoch 19/20\n",
      "126/125 [==============================] - 17s 132ms/step - loss: 8.0590 - acc: 0.5000 - val_loss: 8.0590 - val_acc: 0.5000\n",
      "Epoch 20/20\n",
      "126/125 [==============================] - 17s 132ms/step - loss: 8.0590 - acc: 0.5000 - val_loss: 8.0590 - val_acc: 0.5000\n"
     ]
    },
    {
     "data": {
      "text/plain": [
       "<keras.callbacks.History at 0x7f086737b5c0>"
      ]
     },
     "execution_count": 19,
     "metadata": {
      "tags": []
     },
     "output_type": "execute_result"
    }
   ],
   "source": [
    "classifier.fit_generator(train_batches1,\n",
    " steps_per_epoch = 4002/32,\n",
    " epochs = 20,\n",
    " validation_data = valid_batches1,\n",
    " validation_steps = 2000/32)"
   ]
  },
  {
   "cell_type": "markdown",
   "metadata": {
    "colab_type": "text",
    "id": "oi1KZYYXwaDQ"
   },
   "source": [
    "####As you see we got just 50% accuracy here where as for above using augmented data we got 75% "
   ]
  }
 ],
 "metadata": {
  "accelerator": "GPU",
  "colab": {
   "name": "Copy of Image_Classifier_CNN.ipynb",
   "provenance": [],
   "toc_visible": true,
   "version": "0.3.2"
  },
  "kernelspec": {
   "display_name": "Python 3",
   "language": "python",
   "name": "python3"
  },
  "language_info": {
   "codemirror_mode": {
    "name": "ipython",
    "version": 3
   },
   "file_extension": ".py",
   "mimetype": "text/x-python",
   "name": "python",
   "nbconvert_exporter": "python",
   "pygments_lexer": "ipython3",
   "version": "3.7.1"
  }
 },
 "nbformat": 4,
 "nbformat_minor": 1
}
